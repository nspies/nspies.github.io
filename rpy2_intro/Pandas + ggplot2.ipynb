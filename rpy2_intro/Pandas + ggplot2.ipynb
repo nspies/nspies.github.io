{
 "metadata": {
  "name": ""
 },
 "nbformat": 3,
 "nbformat_minor": 0,
 "worksheets": [
  {
   "cells": [
    {
     "cell_type": "code",
     "collapsed": false,
     "input": [
      "import rpy2.robjects\n",
      "from collections import OrderedDict\n",
      "import rpy2.robjects.numpy2ri\n",
      "rpy2.robjects.numpy2ri.activate()\n",
      "\n",
      "py2ri_orig = rpy2.robjects.conversion.py2ri\n",
      "def conversion_pydataframe(obj):\n",
      "    if isinstance(obj, pandas.core.frame.DataFrame):\n",
      "        od = OrderedDict()\n",
      "        for name, values in obj.iteritems():\n",
      "            if values.dtype.kind == 'O':\n",
      "                od[name] = rpy2.robjects.vectors.StrVector(values)\n",
      "            else:\n",
      "                od[name] = rpy2.robjects.numpy2ri.numpy2ri(values.values)\n",
      "        return rpy2.robjects.vectors.DataFrame(od)\n",
      "    elif isinstance(obj, pandas.core.series.Series):\n",
      "        # converted as a numpy array\n",
      "        res = py2ri_orig(obj) \n",
      "        # \"index\" is equivalent to \"names\" in R\n",
      "        if obj.ndim == 1:\n",
      "            res.names = ListVector({'x': ro.conversion.py2ri(obj.index)})\n",
      "        else:\n",
      "            res.dimnames = ListVector(ro.conversion.py2ri(obj.index))\n",
      "        return res\n",
      "    else:\n",
      "        return py2ri_orig(obj) \n",
      "rpy2.robjects.conversion.py2ri = conversion_pydataframe"
     ],
     "language": "python",
     "metadata": {},
     "outputs": [],
     "prompt_number": 1
    },
    {
     "cell_type": "code",
     "collapsed": false,
     "input": [
      "import pandas"
     ],
     "language": "python",
     "metadata": {},
     "outputs": [
      {
       "output_type": "stream",
       "stream": "stderr",
       "text": [
        "/Library/Frameworks/Python.framework/Versions/2.7/lib/python2.7/site-packages/pytz/__init__.py:35: UserWarning: Module argparse was already imported from /Library/Frameworks/Python.framework/Versions/2.7/lib/python2.7/argparse.pyc, but /Library/Frameworks/Python.framework/Versions/2.7/lib/python2.7/site-packages is being added to sys.path\n",
        "  from pkg_resources import resource_stream\n"
       ]
      }
     ],
     "prompt_number": 2
    },
    {
     "cell_type": "code",
     "collapsed": false,
     "input": [
      "import rpy2.robjects.lib.ggplot2 as ggplot2"
     ],
     "language": "python",
     "metadata": {},
     "outputs": [],
     "prompt_number": 3
    },
    {
     "cell_type": "code",
     "collapsed": false,
     "input": [
      "df = pandas.DataFrame({\"a\":range(10), \"b\":range(10,20)})"
     ],
     "language": "python",
     "metadata": {},
     "outputs": [],
     "prompt_number": 4
    },
    {
     "cell_type": "code",
     "collapsed": false,
     "input": [
      "pp = ggplot2.ggplot(df) + ggplot2.aes_string(x=\"a\", y=\"b\") + ggplot2.geom_point()\n",
      "pp.plot()"
     ],
     "language": "python",
     "metadata": {},
     "outputs": [],
     "prompt_number": 5
    },
    {
     "cell_type": "code",
     "collapsed": false,
     "input": [],
     "language": "python",
     "metadata": {},
     "outputs": [],
     "prompt_number": 5
    }
   ],
   "metadata": {}
  }
 ]
}