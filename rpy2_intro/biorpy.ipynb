{
 "metadata": {
  "name": ""
 },
 "nbformat": 3,
 "nbformat_minor": 0,
 "worksheets": [
  {
   "cells": [
    {
     "cell_type": "heading",
     "level": 2,
     "metadata": {},
     "source": [
      "Using the biorpy wrapper"
     ]
    },
    {
     "cell_type": "code",
     "collapsed": false,
     "input": [
      "import collections\n",
      "import numpy\n",
      "import pandas\n",
      "from biorpy import r, plotting"
     ],
     "language": "python",
     "metadata": {},
     "outputs": [],
     "prompt_number": 1
    },
    {
     "cell_type": "code",
     "collapsed": false,
     "input": [
      "# converts numpy arrays transparently\n",
      "x = numpy.arange(10)\n",
      "y = x + numpy.random.normal(scale=0.5, size=10)\n",
      "r.plot(x, y)"
     ],
     "language": "python",
     "metadata": {},
     "outputs": []
    },
    {
     "cell_type": "code",
     "collapsed": false,
     "input": [
      "result = r[\"wilcox.test\"](range(5), range(5, 10))"
     ],
     "language": "python",
     "metadata": {},
     "outputs": []
    },
    {
     "cell_type": "code",
     "collapsed": false,
     "input": [
      "result"
     ],
     "language": "python",
     "metadata": {},
     "outputs": []
    },
    {
     "cell_type": "code",
     "collapsed": false,
     "input": [
      "result.names"
     ],
     "language": "python",
     "metadata": {},
     "outputs": []
    },
    {
     "cell_type": "code",
     "collapsed": false,
     "input": [
      "result.py"
     ],
     "language": "python",
     "metadata": {},
     "outputs": []
    },
    {
     "cell_type": "code",
     "collapsed": false,
     "input": [
      "result.py.pvalue"
     ],
     "language": "python",
     "metadata": {},
     "outputs": []
    },
    {
     "cell_type": "code",
     "collapsed": true,
     "input": [
      "result.rx2(\"p.value\")[0]"
     ],
     "language": "python",
     "metadata": {},
     "outputs": []
    },
    {
     "cell_type": "code",
     "collapsed": false,
     "input": [
      "# converts DataFrames automatically\n",
      "df = pandas.DataFrame({\"Stanford\":numpy.random.normal(loc=56, size=114), \"MIT\":numpy.random.normal(loc=65, size=114)})"
     ],
     "language": "python",
     "metadata": {},
     "outputs": []
    },
    {
     "cell_type": "code",
     "collapsed": false,
     "input": [
      "#r.pdf(\"temp.pdf\")\n",
      "r.boxplot(df)\n",
      "#r[\"dev.off\"]()"
     ],
     "language": "python",
     "metadata": {},
     "outputs": []
    },
    {
     "cell_type": "code",
     "collapsed": false,
     "input": [
      "r(\"myfunc = function(x){print(paste('Your input:', x))}\")"
     ],
     "language": "python",
     "metadata": {},
     "outputs": [
      {
       "metadata": {},
       "output_type": "pyout",
       "prompt_number": 5,
       "text": [
        "<SignatureTranslatedFunction - Python:0x107877440 / R:0x1041998e0>"
       ]
      }
     ],
     "prompt_number": 5
    },
    {
     "cell_type": "code",
     "collapsed": false,
     "input": [
      "r.myfunc(\"asdf\");"
     ],
     "language": "python",
     "metadata": {},
     "outputs": [
      {
       "output_type": "stream",
       "stream": "stdout",
       "text": [
        "[1] \"Your input: asdf\"\n"
       ]
      }
     ],
     "prompt_number": 7
    },
    {
     "cell_type": "heading",
     "level": 2,
     "metadata": {},
     "source": [
      "biorpy plotting convenience functions"
     ]
    },
    {
     "cell_type": "code",
     "collapsed": false,
     "input": [
      "dataset = []\n",
      "for i in range(5):\n",
      "    # each \"sample\" has mean=i\n",
      "    dataset.append(numpy.random.normal(loc=i, size=30))\n",
      "plotting.ecdf(dataset, [\"a\", \"b\", \"c\", \"d\", \"e\"], xlab=\"goodness\", main=\"comparing 5 normals\")"
     ],
     "language": "python",
     "metadata": {},
     "outputs": []
    },
    {
     "cell_type": "code",
     "collapsed": false,
     "input": [
      "dataset = collections.OrderedDict()\n",
      "for i, sample in enumerate(\"ABCDE\"):\n",
      "    dataset[sample] = numpy.random.normal(loc=i)\n",
      "y_lower = numpy.array(dataset.values()) - 1\n",
      "y_upper = numpy.array(dataset.values()) + 1\n",
      "x = plotting.barPlot(dataset, printCounts=False, ylim=[y_lower.min(), y_upper.max()])\n",
      "plotting.errbars(x=x, y_lower=y_lower, y_upper=y_upper)"
     ],
     "language": "python",
     "metadata": {},
     "outputs": []
    },
    {
     "cell_type": "code",
     "collapsed": false,
     "input": [
      "x = numpy.arange(250)\n",
      "y = x + numpy.random.normal(scale=25, size=250)\n",
      "z = x + numpy.random.normal(scale=75, size=250)\n",
      "df = pandas.DataFrame({\"x\":x, \"y\":y, \"z\":z})\n",
      "plotting.scatterplotMatrix(df, main=\"Comparing multiple datasets\")"
     ],
     "language": "python",
     "metadata": {},
     "outputs": []
    },
    {
     "cell_type": "code",
     "collapsed": false,
     "input": [
      "%quickref"
     ],
     "language": "python",
     "metadata": {},
     "outputs": [],
     "prompt_number": 8
    },
    {
     "cell_type": "code",
     "collapsed": false,
     "input": [],
     "language": "python",
     "metadata": {},
     "outputs": []
    }
   ],
   "metadata": {}
  }
 ]
}